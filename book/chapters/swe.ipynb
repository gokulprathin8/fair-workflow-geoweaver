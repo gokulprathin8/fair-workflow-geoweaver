{
 "cells": [
  {
   "cell_type": "markdown",
   "metadata": {},
   "source": [
    "# SWE Workflow"
   ]
  },
  {
   "cell_type": "markdown",
   "metadata": {},
   "source": [
    "In this chapter, we will delve into the practical application of Pygeoweaver within the context of the Snow Water Equivalence (SWE) Prediction Workflow. This workflow harnesses Pygeoweaver's capabilities to predict Snow Water Equivalence in the Western US by integrating data from SRTM (Shuttle Radar Topographic Mission) DEM and AMSR (Advanced Microwave Scanning Radiometer) sources. We will explore the architecture, components, and optimization techniques involved in designing this workflow. The Snow Water Equivalence (SWE) Prediction Workflow is a prime example of how Pygeoweaver can streamline complex scientific processes. This workflow addresses the critical task of predicting SWE in the Western US. By integrating data from Digital Elevation Models (DEM), Advanced Microwave Scanning Radiometer (AMSR), Gridmet, and Snotel, this workflow aims to provide accurate SWE predictions.\n",
    "\n",
    "By integrating data from the Shuttle Radar Topographic Mission Digital Elevation Models (SRTM DEM) and AMSR-E/AMSR2 Unified Level-3 data, this workflow aims to provide accurate SWE predictions, ultimately aiding decision-makers and researchers alike. SRTM digital elevation dataset  offers global coverage, providing digital elevation models for countries worldwide. Processed to fill data voids and ensure ease of use, SRTM DEMs boast a 90-meter resolution at the equator.\n",
    "\n",
    "AMSR-E/AMSR2 Unified Level-3 data, derived from the Advanced Microwave Scanning Radiometer 2 (AMSR2) instrument onboard the JAXA GCOM-W1 satellite, provides daily estimates of Snow Water Equivalent (SWE). This data source offers a crucial perspective on snowpack characteristics. Rendered to a 25 km Equal-Area Scalable Earth Grid (EASE-Grid) for both hemispheres, the AMSR data enriches the SWE Prediction Workflow by contributing precise SWE estimates. The integration of AMSR data ensures the accuracy and reliability of SWE predictions."
   ]
  },
  {
   "cell_type": "markdown",
   "metadata": {},
   "source": [
    "![swe-workflow](../img/swe_workflow.png \"SWE Workflow\")"
   ]
  },
  {
   "cell_type": "markdown",
   "metadata": {},
   "source": []
  }
 ],
 "metadata": {
  "language_info": {
   "name": "python"
  },
  "orig_nbformat": 4
 },
 "nbformat": 4,
 "nbformat_minor": 2
}
